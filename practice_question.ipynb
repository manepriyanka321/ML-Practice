{
 "cells": [
  {
   "cell_type": "markdown",
   "id": "29f6b7a4",
   "metadata": {},
   "source": [
    "1. Converting integer to decimal"
   ]
  },
  {
   "cell_type": "code",
   "execution_count": 1,
   "id": "e472bfd5",
   "metadata": {},
   "outputs": [
    {
     "name": "stdout",
     "output_type": "stream",
     "text": [
      "10\n",
      "<class 'decimal.Decimal'>\n"
     ]
    }
   ],
   "source": [
    "import decimal\n",
    "integer = 10\n",
    "print(decimal.Decimal(integer))\n",
    "print(type(decimal.Decimal(integer)))"
   ]
  },
  {
   "cell_type": "markdown",
   "id": "5934229e",
   "metadata": {},
   "source": [
    "2. Convert an string of integers into decimal"
   ]
  },
  {
   "cell_type": "code",
   "execution_count": 2,
   "id": "c5241fc0",
   "metadata": {},
   "outputs": [
    {
     "name": "stdout",
     "output_type": "stream",
     "text": [
      "12345\n",
      "<class 'decimal.Decimal'>\n"
     ]
    }
   ],
   "source": [
    "import decimal\n",
    "string = \"12345\"\n",
    "print(decimal.Decimal(string))\n",
    "print(type(decimal.Decimal(string)))"
   ]
  },
  {
   "cell_type": "markdown",
   "id": "7cf05193",
   "metadata": {},
   "source": [
    "3. Reversing a string using Extended Slicer technique"
   ]
  },
  {
   "cell_type": "code",
   "execution_count": 8,
   "id": "aae8b726",
   "metadata": {},
   "outputs": [
    {
     "name": "stdout",
     "output_type": "stream",
     "text": [
      "gnimmargorP nohtyP\n"
     ]
    }
   ],
   "source": [
    "string = \"Python Programming\"\n",
    "print(string[::-1])"
   ]
  },
  {
   "cell_type": "markdown",
   "id": "852c1830",
   "metadata": {},
   "source": [
    "4. Counting Vowels in a given word"
   ]
  },
  {
   "cell_type": "code",
   "execution_count": 9,
   "id": "661bed1c",
   "metadata": {},
   "outputs": [
    {
     "name": "stdout",
     "output_type": "stream",
     "text": [
      "Number of vowels in the word: 3\n"
     ]
    }
   ],
   "source": [
    "vowel = [\"a\", \"e\", \"i\", \"o\", \"u\"]\n",
    "word = \"programming\"\n",
    "count = 0\n",
    "for character in word:\n",
    "    if character in vowel:\n",
    "        count += 1\n",
    "print(\"Number of vowels in the word:\", count)"
   ]
  },
  {
   "cell_type": "markdown",
   "id": "e99054a6",
   "metadata": {},
   "source": [
    "5. Count consonents in word"
   ]
  },
  {
   "cell_type": "code",
   "execution_count": 13,
   "id": "0f5e9227",
   "metadata": {},
   "outputs": [
    {
     "name": "stdout",
     "output_type": "stream",
     "text": [
      "8\n"
     ]
    }
   ],
   "source": [
    "vowel = ['a', 'e', 'i', 'o', 'u']\n",
    "word = \"programming\"\n",
    "count = 0\n",
    "for character in word:\n",
    "    if character not in vowel:\n",
    "        count += 1\n",
    "print(count)"
   ]
  },
  {
   "cell_type": "markdown",
   "id": "6bda8731",
   "metadata": {},
   "source": [
    "6. Counting the number of occurances of a character in a string"
   ]
  },
  {
   "cell_type": "code",
   "execution_count": 14,
   "id": "3468485f",
   "metadata": {},
   "outputs": [
    {
     "name": "stdout",
     "output_type": "stream",
     "text": [
      "2\n"
     ]
    }
   ],
   "source": [
    "word = \"programming\"\n",
    "character = \"g\"\n",
    "count = 0\n",
    "for i in word:\n",
    "    if i == character:\n",
    "        count += 1\n",
    "print(count)"
   ]
  },
  {
   "cell_type": "markdown",
   "id": "836a80a5",
   "metadata": {},
   "source": [
    "7. Writing fibonacci series"
   ]
  },
  {
   "cell_type": "code",
   "execution_count": 15,
   "id": "bf48ba4a",
   "metadata": {},
   "outputs": [
    {
     "name": "stdout",
     "output_type": "stream",
     "text": [
      "0, 1, 1, 2, 3, 5, 8\n"
     ]
    }
   ],
   "source": [
    "fib = [0, 1]\n",
    "n = 5\n",
    "for i in range(n):\n",
    "    fib.append(fib[i] + fib[i + 1])\n",
    "print(\", \".join(str(e) for e in fib))"
   ]
  },
  {
   "cell_type": "markdown",
   "id": "07e1daf9",
   "metadata": {},
   "source": [
    "8. Finding the maximum number in a alist"
   ]
  },
  {
   "cell_type": "code",
   "execution_count": 20,
   "id": "d8a5004f",
   "metadata": {},
   "outputs": [
    {
     "name": "stdout",
     "output_type": "stream",
     "text": [
      "89\n"
     ]
    }
   ],
   "source": [
    "num = [12,45, 42, 32, 5, 6, 75,55, 89 ]\n",
    "max = num[0]\n",
    "for i in num:\n",
    "    if max < i:\n",
    "        max = i\n",
    "\n",
    "print(max)"
   ]
  },
  {
   "cell_type": "markdown",
   "id": "36f075b6",
   "metadata": {},
   "source": [
    "9. Finding minimun number in a list"
   ]
  },
  {
   "cell_type": "code",
   "execution_count": 22,
   "id": "42fd5093",
   "metadata": {},
   "outputs": [
    {
     "name": "stdout",
     "output_type": "stream",
     "text": [
      "2\n"
     ]
    }
   ],
   "source": [
    "numbers = [12, 25, 42, 56, 96, 2]\n",
    "min = numbers[0]\n",
    "for i in numbers:\n",
    "    if min > i:\n",
    "        min = i\n",
    "print(min)"
   ]
  },
  {
   "cell_type": "markdown",
   "id": "8d0664bf",
   "metadata": {},
   "source": [
    "10. Finding the middle element in a list"
   ]
  },
  {
   "cell_type": "code",
   "execution_count": null,
   "id": "8cc218d0",
   "metadata": {},
   "outputs": [],
   "source": [
    "numlist = [12, 3, 55, 23, 45, 56, 78]\n"
   ]
  }
 ],
 "metadata": {
  "kernelspec": {
   "display_name": "venv",
   "language": "python",
   "name": "python3"
  },
  "language_info": {
   "codemirror_mode": {
    "name": "ipython",
    "version": 3
   },
   "file_extension": ".py",
   "mimetype": "text/x-python",
   "name": "python",
   "nbconvert_exporter": "python",
   "pygments_lexer": "ipython3",
   "version": "3.12.6"
  }
 },
 "nbformat": 4,
 "nbformat_minor": 5
}
